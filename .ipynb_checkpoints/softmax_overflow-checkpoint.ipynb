{
 "cells": [
  {
   "cell_type": "code",
   "execution_count": 3,
   "metadata": {},
   "outputs": [],
   "source": [
    "## 网址\n",
    "### http://freemind.pluskid.org/machine-learning/softmax-vs-softmax-loss-numerical-stability/"
   ]
  },
  {
   "cell_type": "code",
   "execution_count": 61,
   "metadata": {},
   "outputs": [
    {
     "name": "stdout",
     "output_type": "stream",
     "text": [
      "(2, 1)\n",
      "(2,)\n",
      "[[ 0.31350267  0.43284544  0.25365189]\n",
      " [ 0.38646305  0.22437274  0.38916421]] [ 1.  1.]\n"
     ]
    }
   ],
   "source": [
    "import numpy as np\n",
    "import random\n",
    "def softmax(a):\n",
    "    a = a - a.max()\n",
    "    x = np.exp(a)\n",
    "    \n",
    "    return x/np.sum(x, axis=1,keepdims=True)\n",
    "\n",
    "x=np.random.rand(2,3)\n",
    "\n",
    "print np.sum(x, axis=1,keepdims=True).shape\n",
    "print np.sum(x, axis=1).shape\n",
    "\n",
    "x_prob = softmax(x)\n",
    "print x_prob, x_prob.sum(axis=1)\n",
    "\n"
   ]
  },
  {
   "cell_type": "code",
   "execution_count": 62,
   "metadata": {},
   "outputs": [
    {
     "name": "stdout",
     "output_type": "stream",
     "text": [
      "111111111111111111\n"
     ]
    }
   ],
   "source": [
    "x=np.random.rand(1,4)\n",
    "def gradient_together(z, y):\n",
    "    o = softmax(z)\n",
    "#     print o\n",
    "    o[0,y] = o[0,y] - 1.0\n",
    "    return o\n",
    "\n",
    "\n",
    "def gradient_separated(z, y):\n",
    "    o = softmax(z)\n",
    "    b = np.eye(o.shape[1])\n",
    "#     print o.shape\n",
    "#对角阵\n",
    "    for i in range(o.shape[1]):\n",
    "        b[i][i] = o[0][i]\n",
    "#     print o\n",
    "#     print b\n",
    "#     print o*o.T\n",
    "    \n",
    "    oz = b - o*o.T\n",
    "    fo = np.zeros((o.shape[1],1))\n",
    "#     print fo.shape\n",
    "    fo[y][0] = -1.0/o[0][y]\n",
    "    return oz.dot(fo).T\n",
    "print \"111111111111111111\""
   ]
  },
  {
   "cell_type": "code",
   "execution_count": 64,
   "metadata": {},
   "outputs": [
    {
     "name": "stdout",
     "output_type": "stream",
     "text": [
      "[[ 0.07316147  0.18829738  0.86373641  0.33271995]]\n",
      "[[  7.31614708e-02   1.88297376e-01  -1.00000000e+38   3.32719952e-01]]\n",
      "[[ 0.29253593  0.3282329  -1.          0.37923117]]\n",
      "[[ nan  nan  nan  nan]]\n"
     ]
    },
    {
     "name": "stderr",
     "output_type": "stream",
     "text": [
      "/home/roger/anaconda2/lib/python2.7/site-packages/ipykernel_launcher.py:22: RuntimeWarning: divide by zero encountered in double_scalars\n"
     ]
    }
   ],
   "source": [
    "print x\n",
    "x[0][2] = -1e38\n",
    "print x\n",
    "print gradient_together(x, 2)\n",
    "print gradient_separated(x, 2)  "
   ]
  },
  {
   "cell_type": "code",
   "execution_count": null,
   "metadata": {
    "collapsed": true
   },
   "outputs": [],
   "source": []
  }
 ],
 "metadata": {
  "kernelspec": {
   "display_name": "Python 2",
   "language": "python",
   "name": "python2"
  },
  "language_info": {
   "codemirror_mode": {
    "name": "ipython",
    "version": 2
   },
   "file_extension": ".py",
   "mimetype": "text/x-python",
   "name": "python",
   "nbconvert_exporter": "python",
   "pygments_lexer": "ipython2",
   "version": "2.7.13"
  }
 },
 "nbformat": 4,
 "nbformat_minor": 2
}
