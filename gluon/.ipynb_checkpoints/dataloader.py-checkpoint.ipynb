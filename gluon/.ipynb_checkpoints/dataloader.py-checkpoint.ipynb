{
 "cells": [
  {
   "cell_type": "code",
   "execution_count": 19,
   "metadata": {},
   "outputs": [],
   "source": [
    "import random\n",
    "from mxnet import gluon\n",
    "from mxnet import ndarray as nd\n",
    "\n",
    "def transform(data, label):\n",
    "    return data.astype('float32')/255, label.astype('float32')\n",
    "mnist_train = gluon.data.vision.FashionMNIST(train=True, transform=transform)\n",
    "mnist_test = gluon.data.vision.FashionMNIST(train=False, transform=transform)"
   ]
  },
  {
   "cell_type": "code",
   "execution_count": 12,
   "metadata": {},
   "outputs": [
    {
     "name": "stdout",
     "output_type": "stream",
     "text": [
      "True\n"
     ]
    }
   ],
   "source": [
    "print isinstance(mnist_test[0][0], nd.NDArray)"
   ]
  },
  {
   "cell_type": "code",
   "execution_count": 14,
   "metadata": {
    "collapsed": true
   },
   "outputs": [],
   "source": [
    "class Sampler():\n",
    "    def __iter__(self):\n",
    "        raise NotImplementedError\n",
    "    def __len__(self):\n",
    "        raise NotImplementedError"
   ]
  },
  {
   "cell_type": "code",
   "execution_count": 23,
   "metadata": {},
   "outputs": [
    {
     "name": "stdout",
     "output_type": "stream",
     "text": [
      "[0, 1, 2, 3, 4, 5, 6, 7, 8, 9]\n",
      "0 1 2 3 4 5 6 7 8 9\n"
     ]
    }
   ],
   "source": [
    "class SequentialSampler(Sampler):\n",
    "    def __init__(self, length):\n",
    "        self._length = length\n",
    "    def __iter__(self):\n",
    "        return iter(range(self._length))\n",
    "\n",
    "    def __len__(self):\n",
    "        return self._length\n",
    "# 实现的是类似列表索引\n",
    "sampler = SequentialSampler(10)\n",
    "print list(sampler)\n",
    "for i in sampler:\n",
    "    print i,"
   ]
  },
  {
   "cell_type": "code",
   "execution_count": 61,
   "metadata": {},
   "outputs": [
    {
     "name": "stdout",
     "output_type": "stream",
     "text": [
      "2 7 4 5 3 1 0 6\n"
     ]
    }
   ],
   "source": [
    "class RandomSampler(Sampler):\n",
    "    def __init__(self, length):\n",
    "        self._length = length\n",
    "    def __iter__(self):\n",
    "        indices = list(range(self._length))\n",
    "        random.shuffle(indices)\n",
    "        return iter(indices)\n",
    "    def __len__(self):\n",
    "        return self._length\n",
    "r = RandomSampler(8)\n",
    "for  i in r:\n",
    "    print i,"
   ]
  },
  {
   "cell_type": "code",
   "execution_count": 62,
   "metadata": {},
   "outputs": [
    {
     "name": "stdout",
     "output_type": "stream",
     "text": [
      "[0, 1, 2]\n",
      "[3, 4, 5]\n",
      "[6, 7, 8]\n",
      "[9]\n",
      "长度为:  4\n"
     ]
    }
   ],
   "source": [
    "class BatchSampler(Sampler):\n",
    "    def __init__(self, smapler, batch_size, last_batch = \"keep\"):\n",
    "        self._sampler = sampler\n",
    "        self._batch_size = batch_size\n",
    "        self._last_batch = last_batch\n",
    "        self._prev = []\n",
    "    def __iter__(self):\n",
    "        batch, self._prev = self._prev, []\n",
    "        for i in self._sampler:\n",
    "            batch.append(i)\n",
    "            if len(batch) == self._batch_size:\n",
    "                # 每次yield大小为batch的索引列表\n",
    "                yield batch\n",
    "                batch = []\n",
    "        # 最后剩余的元素个数不足batch\n",
    "        if batch:\n",
    "            if self._last_batch == 'keep':\n",
    "                yield batch\n",
    "            elif self._last_batch == 'discard':\n",
    "                return\n",
    "            # 剩余元素转到下一次\n",
    "            elif self._last_batch == 'rollout':\n",
    "                self._prev = batch\n",
    "            else:\n",
    "                raise ValueError(\"Oooo!\")\n",
    "    def __len__(self):\n",
    "        if self._last_batch == 'keep':\n",
    "            return (len(self._sampler) + self._batch_size - 1) // self._batch_size\n",
    "        if self._last_batch == 'discard':\n",
    "            return (len(self._sampler))//self._batch_size\n",
    "        if self._last_batch == 'rollout':\n",
    "            return (len(self._prev ) + len(self._sampler)) // self.batch_size\n",
    "        raise ValueError(\"Oooo!\")\n",
    "                                 \n",
    "batch_sampler = BatchSampler(sampler, 3, 'keep')\n",
    "list(batch_sampler)\n",
    "for i in batch_sampler:\n",
    "    print i\n",
    "print \"长度为: \", len(batch_sampler)"
   ]
  },
  {
   "cell_type": "code",
   "execution_count": 114,
   "metadata": {},
   "outputs": [],
   "source": [
    "import numpy as np\n",
    "# print (mnist_test[0][0]).shape, (mnist_test[3][1])\n",
    "# a = [(3,45),(5,6),(5,6)]\n",
    "# print zip(*a)\n",
    "# for x in zip(*a):\n",
    "#     print x\n",
    "\n",
    "\n",
    "def _batchify(data):\n",
    "    if isinstance(data[0], nd.NDArray):\n",
    "        # 链接操作\n",
    "        # x = [1, 2]\n",
    "        # y = [3, 4]\n",
    "        # stack(x, y) = [[1, 2],\n",
    "        #                [3, 4]]\n",
    "        return nd.stack(*data)\n",
    "    elif isinstance(data[0], tuple):\n",
    "        # 将[(3,45),(5,6),(5,6)] 变为 【（3,5,5），（45,6,6）】\n",
    "        # 即把数据集的数据和标签分开来，各自组成一个元祖，data是一个列表,其中有两个元祖\n",
    "        data = zip(*data)\n",
    "        # 这里当然返回两个东西 \n",
    "        return [_batchify(i) for i in data]\n",
    "    else:\n",
    "        # 变为标签\n",
    "        data = np.asarray(data)\n",
    "        return nd.array(data, dtype=data.dtype)\n",
    "# mnist_test_sam = [mnist_test[i] for i in range(2)]\n",
    "\n",
    "# _batchify(mnist_test_sam)\n"
   ]
  },
  {
   "cell_type": "code",
   "execution_count": 115,
   "metadata": {
    "collapsed": true
   },
   "outputs": [],
   "source": [
    "\n",
    "    \n",
    "\n",
    "class DataLoader():\n",
    "    \"\"\"\n",
    "        dataset: dataset\n",
    "        batch_size : 元素数\n",
    "        shuffle : 打乱？\n",
    "        sampler : Sampler\n",
    "        The sampler to use. Either specify sampler or shuffle, not both.\n",
    "        last_batch : {'keep', 'discard', 'rollover'}\n",
    "    \"\"\"\n",
    "    def __init__(self, dataset, batch_size=None, shuffle=False, sampler=None,\n",
    "                last_batch=None, bach_sampler=None):\n",
    "        self._dataset = dataset\n",
    "        # 如果没有定义batch_sampler，就要往下定义\n",
    "        if batch_sampler is None:\n",
    "            if batch_size is None:\n",
    "                raise ValueError(\"batch size must be defined\")\n",
    "            if sampler is None:\n",
    "                if shuffle:\n",
    "                    sampler = RandomSampler(len(dataset))\n",
    "                else:\n",
    "                    sampler = SequentialSampler(len(dataset))\n",
    "            elif shuffle:\n",
    "                raise ValueError(\"shuffle must be not specified if sampler is specified\")\n",
    "            \n",
    "            batch_sampler = BatchSampler(sampler, batch_size, last_batch if last_batch else 'keep')\n",
    "        self._batch_sampler = batch_sampler\n",
    "    def __iter__(self):\n",
    "        for batch in self._batch_sampler:\n",
    "            yield _batchify([self._dataset[idx] for idx in batch])\n",
    "    def __len__(self):\n",
    "        return len(self._batch_sampler)"
   ]
  },
  {
   "cell_type": "code",
   "execution_count": null,
   "metadata": {},
   "outputs": [],
   "source": []
  },
  {
   "cell_type": "code",
   "execution_count": null,
   "metadata": {
    "collapsed": true
   },
   "outputs": [],
   "source": []
  }
 ],
 "metadata": {
  "kernelspec": {
   "display_name": "Python 2",
   "language": "python",
   "name": "python2"
  },
  "language_info": {
   "codemirror_mode": {
    "name": "ipython",
    "version": 2
   },
   "file_extension": ".py",
   "mimetype": "text/x-python",
   "name": "python",
   "nbconvert_exporter": "python",
   "pygments_lexer": "ipython2",
   "version": "2.7.13"
  }
 },
 "nbformat": 4,
 "nbformat_minor": 2
}
